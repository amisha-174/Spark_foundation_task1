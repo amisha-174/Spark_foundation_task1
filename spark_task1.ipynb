{
 "cells": [
  {
   "cell_type": "markdown",
   "id": "aebd1520",
   "metadata": {},
   "source": [
    "<h1> Data Science & Business Analytics Tasks </h1>"
   ]
  },
  {
   "cell_type": "markdown",
   "id": "c89e9471",
   "metadata": {},
   "source": [
    "<h1> The Sparks foundation </h1>"
   ]
  },
  {
   "cell_type": "markdown",
   "id": "1a2df668",
   "metadata": {},
   "source": [
    "<h3>Presented By: Amisha Sonone</h3>"
   ]
  },
  {
   "cell_type": "markdown",
   "id": "23ba2252",
   "metadata": {},
   "source": [
    "<h2>Task 1: </h2>"
   ]
  },
  {
   "cell_type": "markdown",
   "id": "65edc919",
   "metadata": {},
   "source": [
    "<h4>Predict the percentage of an student based on the no. of study hours.</h4>"
   ]
  },
  {
   "cell_type": "markdown",
   "id": "fb2e2a60",
   "metadata": {},
   "source": [
    "<h3>step1: Importing important libraries</h3>"
   ]
  },
  {
   "cell_type": "code",
   "execution_count": 25,
   "id": "b7cd97d9",
   "metadata": {},
   "outputs": [],
   "source": [
    "import numpy as np\n",
    "import pandas as pd\n",
    "import matplotlib.pyplot as plt\n",
    "%matplotlib inline\n",
    "from sklearn.model_selection import train_test_split\n",
    "from sklearn.linear_model import LinearRegression"
   ]
  },
  {
   "cell_type": "markdown",
   "id": "274b233f",
   "metadata": {},
   "source": [
    "<h3>Importing dataset</h3>"
   ]
  },
  {
   "cell_type": "code",
   "execution_count": 4,
   "id": "bc00402f",
   "metadata": {},
   "outputs": [],
   "source": [
    "data= pd.read_csv(\"http://bit.ly/w-data\")"
   ]
  },
  {
   "cell_type": "code",
   "execution_count": 6,
   "id": "a96e4a41",
   "metadata": {},
   "outputs": [
    {
     "data": {
      "text/html": [
       "<div>\n",
       "<style scoped>\n",
       "    .dataframe tbody tr th:only-of-type {\n",
       "        vertical-align: middle;\n",
       "    }\n",
       "\n",
       "    .dataframe tbody tr th {\n",
       "        vertical-align: top;\n",
       "    }\n",
       "\n",
       "    .dataframe thead th {\n",
       "        text-align: right;\n",
       "    }\n",
       "</style>\n",
       "<table border=\"1\" class=\"dataframe\">\n",
       "  <thead>\n",
       "    <tr style=\"text-align: right;\">\n",
       "      <th></th>\n",
       "      <th>Hours</th>\n",
       "      <th>Scores</th>\n",
       "    </tr>\n",
       "  </thead>\n",
       "  <tbody>\n",
       "    <tr>\n",
       "      <th>0</th>\n",
       "      <td>2.5</td>\n",
       "      <td>21</td>\n",
       "    </tr>\n",
       "    <tr>\n",
       "      <th>1</th>\n",
       "      <td>5.1</td>\n",
       "      <td>47</td>\n",
       "    </tr>\n",
       "    <tr>\n",
       "      <th>2</th>\n",
       "      <td>3.2</td>\n",
       "      <td>27</td>\n",
       "    </tr>\n",
       "    <tr>\n",
       "      <th>3</th>\n",
       "      <td>8.5</td>\n",
       "      <td>75</td>\n",
       "    </tr>\n",
       "    <tr>\n",
       "      <th>4</th>\n",
       "      <td>3.5</td>\n",
       "      <td>30</td>\n",
       "    </tr>\n",
       "  </tbody>\n",
       "</table>\n",
       "</div>"
      ],
      "text/plain": [
       "   Hours  Scores\n",
       "0    2.5      21\n",
       "1    5.1      47\n",
       "2    3.2      27\n",
       "3    8.5      75\n",
       "4    3.5      30"
      ]
     },
     "execution_count": 6,
     "metadata": {},
     "output_type": "execute_result"
    }
   ],
   "source": [
    "data.head()"
   ]
  },
  {
   "cell_type": "code",
   "execution_count": 10,
   "id": "a62d94df",
   "metadata": {},
   "outputs": [
    {
     "data": {
      "text/plain": [
       "(25, 2)"
      ]
     },
     "execution_count": 10,
     "metadata": {},
     "output_type": "execute_result"
    }
   ],
   "source": [
    "data.shape"
   ]
  },
  {
   "cell_type": "markdown",
   "id": "0f7f177c",
   "metadata": {},
   "source": [
    "<h3>step2: check for null values</h3>"
   ]
  },
  {
   "cell_type": "code",
   "execution_count": 13,
   "id": "0fb61e11",
   "metadata": {},
   "outputs": [
    {
     "data": {
      "text/plain": [
       "Hours     0\n",
       "Scores    0\n",
       "dtype: int64"
      ]
     },
     "execution_count": 13,
     "metadata": {},
     "output_type": "execute_result"
    }
   ],
   "source": [
    "data.isnull().sum()"
   ]
  },
  {
   "cell_type": "code",
   "execution_count": 15,
   "id": "02b0f2d0",
   "metadata": {},
   "outputs": [
    {
     "data": {
      "text/html": [
       "<div>\n",
       "<style scoped>\n",
       "    .dataframe tbody tr th:only-of-type {\n",
       "        vertical-align: middle;\n",
       "    }\n",
       "\n",
       "    .dataframe tbody tr th {\n",
       "        vertical-align: top;\n",
       "    }\n",
       "\n",
       "    .dataframe thead th {\n",
       "        text-align: right;\n",
       "    }\n",
       "</style>\n",
       "<table border=\"1\" class=\"dataframe\">\n",
       "  <thead>\n",
       "    <tr style=\"text-align: right;\">\n",
       "      <th></th>\n",
       "      <th>Hours</th>\n",
       "      <th>Scores</th>\n",
       "    </tr>\n",
       "  </thead>\n",
       "  <tbody>\n",
       "    <tr>\n",
       "      <th>count</th>\n",
       "      <td>25.000000</td>\n",
       "      <td>25.000000</td>\n",
       "    </tr>\n",
       "    <tr>\n",
       "      <th>mean</th>\n",
       "      <td>5.012000</td>\n",
       "      <td>51.480000</td>\n",
       "    </tr>\n",
       "    <tr>\n",
       "      <th>std</th>\n",
       "      <td>2.525094</td>\n",
       "      <td>25.286887</td>\n",
       "    </tr>\n",
       "    <tr>\n",
       "      <th>min</th>\n",
       "      <td>1.100000</td>\n",
       "      <td>17.000000</td>\n",
       "    </tr>\n",
       "    <tr>\n",
       "      <th>25%</th>\n",
       "      <td>2.700000</td>\n",
       "      <td>30.000000</td>\n",
       "    </tr>\n",
       "    <tr>\n",
       "      <th>50%</th>\n",
       "      <td>4.800000</td>\n",
       "      <td>47.000000</td>\n",
       "    </tr>\n",
       "    <tr>\n",
       "      <th>75%</th>\n",
       "      <td>7.400000</td>\n",
       "      <td>75.000000</td>\n",
       "    </tr>\n",
       "    <tr>\n",
       "      <th>max</th>\n",
       "      <td>9.200000</td>\n",
       "      <td>95.000000</td>\n",
       "    </tr>\n",
       "  </tbody>\n",
       "</table>\n",
       "</div>"
      ],
      "text/plain": [
       "           Hours     Scores\n",
       "count  25.000000  25.000000\n",
       "mean    5.012000  51.480000\n",
       "std     2.525094  25.286887\n",
       "min     1.100000  17.000000\n",
       "25%     2.700000  30.000000\n",
       "50%     4.800000  47.000000\n",
       "75%     7.400000  75.000000\n",
       "max     9.200000  95.000000"
      ]
     },
     "execution_count": 15,
     "metadata": {},
     "output_type": "execute_result"
    }
   ],
   "source": [
    "data.describe()"
   ]
  },
  {
   "cell_type": "markdown",
   "id": "d05292b5",
   "metadata": {},
   "source": [
    "<h3>step3: Visualising Data</h3>"
   ]
  },
  {
   "cell_type": "code",
   "execution_count": 18,
   "id": "23e30ff1",
   "metadata": {},
   "outputs": [
    {
     "data": {
      "image/png": "[encoded data removed]",
      "text/plain": [
       "<Figure size 432x288 with 1 Axes>"
      ]
     },
     "metadata": {
      "needs_background": "light"
     },
     "output_type": "display_data"
    }
   ],
   "source": [
    "data.plot(x='Hours', y=\"Scores\", style=\"o\")\n",
    "plt.title(\"Score achieved for hour studied\")\n",
    "plt.xlabel('Hour studied')\n",
    "plt.ylabel('scores in %')\n",
    "plt.show()"
   ]
  },
  {
   "cell_type": "markdown",
   "id": "05dfde34",
   "metadata": {},
   "source": [
    "<h3>step4: Divide data into 'Attributes' and 'Labels'</h3>"
   ]
  },
  {
   "cell_type": "code",
   "execution_count": 19,
   "id": "0c9bcb36",
   "metadata": {},
   "outputs": [],
   "source": [
    "x=data.iloc[:, :-1].values\n",
    "y=data.iloc[:,1].values"
   ]
  },
  {
   "cell_type": "markdown",
   "id": "12ea3606",
   "metadata": {},
   "source": [
    "<h3>Step5: Split data into training and testing</h3>"
   ]
  },
  {
   "cell_type": "code",
   "execution_count": 36,
   "id": "99610271",
   "metadata": {},
   "outputs": [],
   "source": [
    "x_train, x_test, y_train, y_test= train_test_split(x,y, train_size=0.8, random_state=0)"
   ]
  },
  {
   "cell_type": "markdown",
   "id": "529cbedf",
   "metadata": {},
   "source": [
    "<h3>step6: Train the algorithm</h3>"
   ]
  },
  {
   "cell_type": "code",
   "execution_count": 33,
   "id": "fb248764",
   "metadata": {},
   "outputs": [
    {
     "data": {
      "text/plain": [
       "LinearRegression()"
      ]
     },
     "execution_count": 33,
     "metadata": {},
     "output_type": "execute_result"
    }
   ],
   "source": [
    "regressor=LinearRegression()\n",
    "regressor.fit(x_train, y_train)"
   ]
  },
  {
   "cell_type": "markdown",
   "id": "7b5c6913",
   "metadata": {},
   "source": [
    "<h3>step 7: Testing Algorithm</h3>"
   ]
  },
  {
   "cell_type": "code",
   "execution_count": 41,
   "id": "b4459504",
   "metadata": {},
   "outputs": [
    {
     "data": {
      "text/html": [
       "<div>\n",
       "<style scoped>\n",
       "    .dataframe tbody tr th:only-of-type {\n",
       "        vertical-align: middle;\n",
       "    }\n",
       "\n",
       "    .dataframe tbody tr th {\n",
       "        vertical-align: top;\n",
       "    }\n",
       "\n",
       "    .dataframe thead th {\n",
       "        text-align: right;\n",
       "    }\n",
       "</style>\n",
       "<table border=\"1\" class=\"dataframe\">\n",
       "  <thead>\n",
       "    <tr style=\"text-align: right;\">\n",
       "      <th></th>\n",
       "      <th>predicted values</th>\n",
       "      <th>actual values</th>\n",
       "      <th>difference</th>\n",
       "    </tr>\n",
       "  </thead>\n",
       "  <tbody>\n",
       "    <tr>\n",
       "      <th>0</th>\n",
       "      <td>16.884145</td>\n",
       "      <td>20</td>\n",
       "      <td>-3.115855</td>\n",
       "    </tr>\n",
       "    <tr>\n",
       "      <th>1</th>\n",
       "      <td>33.732261</td>\n",
       "      <td>27</td>\n",
       "      <td>6.732261</td>\n",
       "    </tr>\n",
       "    <tr>\n",
       "      <th>2</th>\n",
       "      <td>75.357018</td>\n",
       "      <td>69</td>\n",
       "      <td>6.357018</td>\n",
       "    </tr>\n",
       "    <tr>\n",
       "      <th>3</th>\n",
       "      <td>26.794801</td>\n",
       "      <td>30</td>\n",
       "      <td>-3.205199</td>\n",
       "    </tr>\n",
       "    <tr>\n",
       "      <th>4</th>\n",
       "      <td>60.491033</td>\n",
       "      <td>62</td>\n",
       "      <td>-1.508967</td>\n",
       "    </tr>\n",
       "  </tbody>\n",
       "</table>\n",
       "</div>"
      ],
      "text/plain": [
       "   predicted values  actual values  difference\n",
       "0         16.884145             20   -3.115855\n",
       "1         33.732261             27    6.732261\n",
       "2         75.357018             69    6.357018\n",
       "3         26.794801             30   -3.205199\n",
       "4         60.491033             62   -1.508967"
      ]
     },
     "execution_count": 41,
     "metadata": {},
     "output_type": "execute_result"
    }
   ],
   "source": [
    "y_predict= regressor.predict(x_test)\n",
    "data2= pd.DataFrame({\"predicted values\": y_predict, \"actual values\": y_test, \"difference\": y_predict-y_test})\n",
    "data2"
   ]
  },
  {
   "cell_type": "code",
   "execution_count": 47,
   "id": "8a4255ad",
   "metadata": {},
   "outputs": [
    {
     "name": "stdout",
     "output_type": "stream",
     "text": [
      "training score 0.9515510725211552\n",
      "testing Score 0.9454906892105354\n"
     ]
    }
   ],
   "source": [
    "print(\"training score\", regressor.score(x_train, y_train))\n",
    "print(\"testing Score\", regressor.score(x_test, y_test))"
   ]
  },
  {
   "cell_type": "code",
   "execution_count": 52,
   "id": "531b77c7",
   "metadata": {},
   "outputs": [
    {
     "data": {
      "image/png": "[encoded data removed]",
      "text/plain": [
       "<Figure size 432x432 with 1 Axes>"
      ]
     },
     "metadata": {
      "needs_background": "light"
     },
     "output_type": "display_data"
    }
   ],
   "source": [
    "data2.plot(kind='bar', figsize=(6,6), color=('yellow', 'green','black'))\n",
    "plt.show()"
   ]
  },
  {
   "cell_type": "markdown",
   "id": "08135d51",
   "metadata": {},
   "source": [
    "<h3>step8: Evaluate the model</h3>"
   ]
  },
  {
   "cell_type": "code",
   "execution_count": 43,
   "id": "c01c07ed",
   "metadata": {},
   "outputs": [
    {
     "name": "stdout",
     "output_type": "stream",
     "text": [
      "Mean absolute error: 4.183859899002982\n",
      "Mean squared error: 21.598769307217456\n",
      "Root Mean squared error: 4.647447612100373\n",
      "Explained variance score: 0.9482829156738145\n"
     ]
    }
   ],
   "source": [
    "from sklearn import metrics\n",
    "print(\"Mean absolute error:\", metrics.mean_absolute_error(y_test, y_predict))\n",
    "print(\"Mean squared error:\", metrics.mean_squared_error(y_test, y_predict))\n",
    "print(\"Root Mean squared error:\", np.sqrt(metrics.mean_squared_error(y_test, y_predict)))\n",
    "print(\"Explained variance score:\", metrics.explained_variance_score(y_test, y_predict))"
   ]
  },
  {
   "cell_type": "markdown",
   "id": "361bde43",
   "metadata": {},
   "source": [
    "<h3>Step9:predict the required data</h3>"
   ]
  },
  {
   "cell_type": "code",
   "execution_count": 46,
   "id": "a755fe2e",
   "metadata": {},
   "outputs": [
    {
     "name": "stdout",
     "output_type": "stream",
     "text": [
      "9.25\n"
     ]
    },
    {
     "data": {
      "text/plain": [
       "array([93.69173249])"
      ]
     },
     "execution_count": 46,
     "metadata": {},
     "output_type": "execute_result"
    }
   ],
   "source": [
    "z=float(input())\n",
    "regressor.predict([[z]])"
   ]
  },
  {
   "cell_type": "markdown",
   "id": "90bc3137",
   "metadata": {},
   "source": [
    "<h2>Conclusion</h2>"
   ]
  },
  {
   "cell_type": "markdown",
   "id": "f35556dc",
   "metadata": {},
   "source": [
    "<h4> The predicted percentage score for 9.25 hr/day is 93.69</h4>"
   ]
  },
  {
   "cell_type": "code",
   "execution_count": null,
   "id": "f3eeee24",
   "metadata": {},
   "outputs": [],
   "source": []
  }
 ],
 "metadata": {
  "kernelspec": {
   "display_name": "Python 3 (ipykernel)",
   "language": "python",
   "name": "python3"
  },
  "language_info": {
   "codemirror_mode": {
    "name": "ipython",
    "version": 3
   },
   "file_extension": ".py",
   "mimetype": "text/x-python",
   "name": "python",
   "nbconvert_exporter": "python",
   "pygments_lexer": "ipython3",
   "version": "3.9.12"
  }
 },
 "nbformat": 4,
 "nbformat_minor": 5
}
